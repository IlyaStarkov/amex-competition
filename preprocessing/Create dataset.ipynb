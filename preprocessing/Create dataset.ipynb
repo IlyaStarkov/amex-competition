{
 "cells": [
  {
   "cell_type": "code",
   "execution_count": 1,
   "metadata": {},
   "outputs": [],
   "source": [
    "import pandas as pd\n",
    "import numpy as np\n",
    "from tqdm import tqdm\n",
    "import sys\n",
    "import gc"
   ]
  },
  {
   "cell_type": "code",
   "execution_count": 2,
   "metadata": {},
   "outputs": [],
   "source": [
    "def find_tresh_val(feature, tresholds):\n",
    "    tresh_val = []\n",
    "    for i in range(len(tresholds)-1):\n",
    "        a = tresholds[i]\n",
    "        b = tresholds[i+1]\n",
    "        mean_val = df[(df[feature] > a) & (df[feature] < b)][feature].mean()\n",
    "        tresh_val.append(mean_val)\n",
    "    return tresh_val\n",
    "\n",
    "def convert(x, feature, tresholds: list, tresh_val: list):\n",
    "    for i in range(len(tresholds)-1):\n",
    "        a = tresholds[i]\n",
    "        b = tresholds[i+1]\n",
    "        if (x > a and x < b):\n",
    "            return round(tresh_val[i], 1)\n",
    "        \n",
    "def last_day(date):\n",
    "    time_interval = date.split('-')\n",
    "    year, month, day = int(time_interval[0]), int(time_interval[1]), int(time_interval[2])\n",
    "    if (day == calendar.monthrange(year, month)[1]):\n",
    "        return 1\n",
    "    return 0\n",
    "\n",
    "def next_month(date):\n",
    "    time_interval = date.split('-')\n",
    "    year, month, day = int(time_interval[0]), int(time_interval[1]), time_interval[2]\n",
    "    month = month+1\n",
    "    if month == 13:\n",
    "        year, month = year+1, 1\n",
    "    if ((month == 2) and (int(day)>28)):\n",
    "        day = 28\n",
    "    if((month == 4 or month == 6 or month == 9 or month == 11) and (int(day)==31)):\n",
    "        day = 30\n",
    "    if int(month/10) == 0:\n",
    "        month = '0'+str(month)\n",
    "    new_date = [str(year), str(month), str(day)]\n",
    "    return '-'.join(new_date)\n",
    "\n",
    "def transform_date(customer):\n",
    "    payment_history_val = customer.S_2.values\n",
    "    payment_history = pd.Series(payment_history_val)\n",
    "    res = [payment_history.values[0]]\n",
    "    for i in range(payment_history.shape[0]-1):\n",
    "        res.append(next_month(res[i]))\n",
    "    ser = pd.Series(res, copy=False)\n",
    "    actual_date = pd.to_datetime(payment_history)\n",
    "    desirable_date = pd.to_datetime(ser)\n",
    "    mean_diff = 0\n",
    "    for diff in (actual_date - desirable_date).iloc:\n",
    "        mean_diff += diff.days\n",
    "    mean_diff = mean_diff/payment_history.shape[0]\n",
    "    def sigmoid(x):\n",
    "        return 1 / (1 + np.exp(-0.5*x))\n",
    "    return sigmoid(mean_diff)"
   ]
  },
  {
   "cell_type": "code",
   "execution_count": 3,
   "metadata": {},
   "outputs": [],
   "source": [
    "cat_features = ['B_30', 'B_38', 'D_114', 'D_116', 'D_117', 'D_120', 'D_126', 'D_63', 'D_64', 'D_68']\n",
    "\n",
    "columns_to_del = ['D_42', 'D_43', 'D_46', 'D_49', 'D_50', 'D_53', 'D_56', 'S_9', 'B_17',\n",
    "                  'D_66', 'D_73', 'D_76', 'D_77', 'R_9', 'D_82', 'B_29', 'D_87', 'D_88',\n",
    "                  'D_105', 'D_106', 'R_26', 'D_108', 'D_110', 'D_111', 'B_39', 'S_27', \n",
    "                  'B_42', 'D_132', 'D_134', 'D_135', 'D_136', 'D_137', 'D_138', 'D_142']"
   ]
  },
  {
   "cell_type": "code",
   "execution_count": 4,
   "metadata": {},
   "outputs": [],
   "source": [
    "tresholds_for_features = dict({\n",
    "                               'R_2'  : [0, 0.3, 1.3],\n",
    "                               'B_8'  : [-0.1, 0.3, 1.3],\n",
    "                               'S_6'  : [0, 0.3, 1.3],\n",
    "                               'D_54' : [-0.1, 0.3, 1.3],\n",
    "                               'R_4'  : [0, 0.3, 1.3], \n",
    "                               'P_4'  : [0, 0.3, 1.3], \n",
    "                               'B_33' : [0, 0.3, 1.3], \n",
    "                               'D_103' : [0, 0.3, 1.3], \n",
    "                               'D_104' : [0, 0.3, 1.3], \n",
    "                               'R_27'  : [0, 0.3, 1.3],  \n",
    "                               'D_112' : [0, 0.3, 1.3], \n",
    "                               'D_123' : [0, 0.3, 1.3], \n",
    "                               'D_127' : [0, 0.3, 1.3], \n",
    "                               'D_128' : [0, 0.3, 1.3], \n",
    "                               'D_129' : [0, 0.3, 1.3], \n",
    "                               'D_130' : [0, 0.3, 1.3], \n",
    "                               'D_131' : [0, 0.3, 1.3], \n",
    "                               'D_139' : [0, 0.3, 1.3], \n",
    "                               'D_141' : [0, 0.3, 1.3], \n",
    "                               'D_143' : [0, 0.3, 1.3],\n",
    "                               'D_51' : [0, 0.2, 0.5,0.8, 1.1], \n",
    "                               'B_22' : [0, 0.2, 0.7],\n",
    "                               'D_70' : [0, 0.2, 0.4, 0.6, 0.8],\n",
    "                               'D_79' : [0, 0.2, 0.7],\n",
    "                               'D_80' : [0, 0.2, 0.4, 0.6, 0.8],\n",
    "                               'R_12' : [-1, 0.4, 2],\n",
    "                               'D_91' : [0, 0.2, 0.7],\n",
    "                               'D_92' : [0, 0.5, 1.5],\n",
    "                               'D_107': [0, 0.2, 0.5, 0.8, 1.2],\n",
    "                               'D_113': [0, 0.1, 0.3, 0.5, 0,7, 0.9]\n",
    "                               \n",
    "})"
   ]
  },
  {
   "cell_type": "code",
   "execution_count": 5,
   "metadata": {},
   "outputs": [],
   "source": [
    "def quantile(x, q):\n",
    "    return np.quantile(x, q)\n",
    "\n",
    "quantile_025 = lambda x: quantile(x,0.25)\n",
    "quantile_025.__name__ = '025'\n",
    "\n",
    "quantile_075 = lambda x: quantile(x,0.75)\n",
    "quantile_075.__name__ = '075'"
   ]
  },
  {
   "cell_type": "code",
   "execution_count": 6,
   "metadata": {},
   "outputs": [],
   "source": [
    "chunks = pd.read_csv('train_data.csv', chunksize=32768, encoding = 'utf-8', sep = ',')"
   ]
  },
  {
   "cell_type": "code",
   "execution_count": 7,
   "metadata": {},
   "outputs": [
    {
     "name": "stderr",
     "output_type": "stream",
     "text": [
      "100%|█████████████████████████████████████████████████████████████████████████████| 169/169 [7:53:44<00:00, 168.19s/it]"
     ]
    },
    {
     "name": "stdout",
     "output_type": "stream",
     "text": [
      "Wall time: 7h 53min 44s\n"
     ]
    },
    {
     "name": "stderr",
     "output_type": "stream",
     "text": [
      "\n"
     ]
    }
   ],
   "source": [
    "%%time\n",
    "for i in tqdm(range(169)):\n",
    "    cat_features = ['B_30', 'B_38', 'D_114', 'D_116', 'D_117', 'D_120', 'D_126', 'D_63', 'D_64', 'D_68']\n",
    "    next_chunk = chunks.__next__()\n",
    "    df = next_chunk.drop(columns_to_del, axis = 1)\n",
    "    del(next_chunk)\n",
    "    _ = gc.collect()\n",
    "    for feature in tresholds_for_features:\n",
    "        tresh_val = find_tresh_val(feature, tresholds_for_features.get(feature))\n",
    "        df[feature] = df[feature].apply(lambda x: convert(x, feature, tresholds_for_features.get(feature), tresh_val))\n",
    "    cat_features += list(tresholds_for_features.keys())\n",
    "    res = []\n",
    "    for feature in cat_features:\n",
    "        res.append(df[feature].mode().values[0])\n",
    "    global_modes_val = dict(zip(cat_features, res))\n",
    "    customers = df.customer_ID.unique()\n",
    "    clear_cat = pd.DataFrame()\n",
    "    for customer in customers:\n",
    "        customer_data_cat = df[df['customer_ID'] == customer][cat_features]\n",
    "        if (1 in customer_data_cat.isna().mean().values):\n",
    "            clear_cat = pd.concat([clear_cat, customer_data_cat.fillna(value=global_modes_val)])\n",
    "        elif customer_data_cat.shape[0] >= 1:\n",
    "            values = dict(zip(cat_features, customer_data_cat.mode().values[0]))\n",
    "            clear_cat = pd.concat([clear_cat, customer_data_cat.fillna(value=values)])\n",
    "    df[cat_features] = clear_cat\n",
    "    continuous_features = df.drop(cat_features+['customer_ID', 'S_2'], axis=1).columns.to_list()\n",
    "    res = []\n",
    "    for feature in continuous_features:\n",
    "        res.append(df[feature].median())\n",
    "    continuous_val = dict(zip(continuous_features, res))\n",
    "    df = df.fillna(value=continuous_val)\n",
    "    new_S_2 = []\n",
    "    for customer in customers:\n",
    "        customer_data = df[df['customer_ID'] == customer]\n",
    "        new_S_2.append(transform_date(customer_data))\n",
    "    categ_df = pd.get_dummies(df[cat_features], columns=cat_features)\n",
    "    categ_df['customer_ID'] = df['customer_ID']\n",
    "    categ_df = categ_df.groupby('customer_ID').agg('sum').reset_index()\n",
    "    functions = [['mean', 'std', 'max', 'min', 'first', 'last', quantile_025, quantile_075]]*len(continuous_features)\n",
    "    dict_agg = dict(zip(continuous_features, functions))\n",
    "    df_con = df.groupby('customer_ID').agg(dict_agg).reset_index()\n",
    "    df_con.columns = ['customer_ID']+[c[0]+'_'+c[1] for c in df_con.columns[1:]]\n",
    "    df_con = df_con.fillna(0)\n",
    "    df_con['S_2'] = new_S_2\n",
    "    del df\n",
    "    _ = gc.collect()\n",
    "    clear_df = df_con.merge(categ_df, on='customer_ID')\n",
    "    del df_con, categ_df, clear_cat\n",
    "    _ = gc.collect()\n",
    "    clear_df.to_csv('train/'+str(i)+'th_chunk.csv', sep=';', index=False)"
   ]
  }
 ],
 "metadata": {
  "kernelspec": {
   "display_name": "Python 3",
   "language": "python",
   "name": "python3"
  },
  "language_info": {
   "codemirror_mode": {
    "name": "ipython",
    "version": 3
   },
   "file_extension": ".py",
   "mimetype": "text/x-python",
   "name": "python",
   "nbconvert_exporter": "python",
   "pygments_lexer": "ipython3",
   "version": "3.8.3"
  }
 },
 "nbformat": 4,
 "nbformat_minor": 4
}
